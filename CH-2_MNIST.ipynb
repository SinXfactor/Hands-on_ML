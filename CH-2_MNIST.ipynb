{
  "cells": [
    {
      "cell_type": "markdown",
      "metadata": {},
      "source": [
        "## Importing Primary Libraries"
      ]
    },
    {
      "cell_type": "code",
      "execution_count": 2,
      "metadata": {
        "id": "kpmgJtfkBR0X"
      },
      "outputs": [],
      "source": [
        "import matplotlib as mpl\n",
        "import matplotlib.pyplot as plt\n",
        "import numpy as np\n",
        "from sklearn.datasets import fetch_openml\n",
        "%matplotlib inline"
      ]
    },
    {
      "cell_type": "markdown",
      "metadata": {},
      "source": [
        "### Fetching MINST data..."
      ]
    },
    {
      "cell_type": "code",
      "execution_count": 3,
      "metadata": {
        "id": "XWxtqveIbQzA"
      },
      "outputs": [],
      "source": [
        "mnist = fetch_openml('mnist_784', version=1)"
      ]
    },
    {
      "cell_type": "markdown",
      "metadata": {},
      "source": [
        "### MNIST data is in the form of a python dictionary, from which we can access its various `keys()`"
      ]
    },
    {
      "cell_type": "code",
      "execution_count": 4,
      "metadata": {
        "colab": {
          "base_uri": "https://localhost:8080/"
        },
        "id": "eKBCH-qibg6B",
        "outputId": "a600ec0b-0ab5-4463-df35-b7c4c0229dd2"
      },
      "outputs": [
        {
          "data": {
            "text/plain": [
              "dict_keys(['data', 'target', 'frame', 'categories', 'feature_names', 'target_names', 'DESCR', 'details', 'url'])"
            ]
          },
          "execution_count": 4,
          "metadata": {},
          "output_type": "execute_result"
        }
      ],
      "source": [
        "mnist.keys()"
      ]
    },
    {
      "cell_type": "markdown",
      "metadata": {},
      "source": [
        "### Defining the 'X' and 'y' for ML processing"
      ]
    },
    {
      "cell_type": "code",
      "execution_count": 5,
      "metadata": {
        "id": "8q6VsG9dBJK1"
      },
      "outputs": [],
      "source": [
        "X, y = mnist[\"data\"], mnist[\"target\"]"
      ]
    },
    {
      "cell_type": "markdown",
      "metadata": {},
      "source": [
        "### Checking the shapes"
      ]
    },
    {
      "cell_type": "code",
      "execution_count": 6,
      "metadata": {
        "colab": {
          "base_uri": "https://localhost:8080/"
        },
        "id": "X2wqso2zBJCc",
        "outputId": "6f64ab14-1aa9-460c-9e09-7d967412d678"
      },
      "outputs": [
        {
          "data": {
            "text/plain": [
              "(70000, 784)"
            ]
          },
          "execution_count": 6,
          "metadata": {},
          "output_type": "execute_result"
        }
      ],
      "source": [
        "X.shape"
      ]
    },
    {
      "cell_type": "code",
      "execution_count": 7,
      "metadata": {
        "colab": {
          "base_uri": "https://localhost:8080/"
        },
        "id": "5a7zCKSyBI21",
        "outputId": "85437606-e6a2-4916-eca9-a30b4943af2c"
      },
      "outputs": [
        {
          "data": {
            "text/plain": [
              "(70000,)"
            ]
          },
          "execution_count": 7,
          "metadata": {},
          "output_type": "execute_result"
        }
      ],
      "source": [
        "y.shape"
      ]
    },
    {
      "cell_type": "markdown",
      "metadata": {},
      "source": [
        "### Visualizing a single entry with matplotlib's `imshow()` function with some pre-processing"
      ]
    },
    {
      "cell_type": "code",
      "execution_count": 8,
      "metadata": {
        "id": "ITnZsVEKBPZw"
      },
      "outputs": [],
      "source": [
        "some_digit = X.iloc[5]\n",
        "some_digit_image = some_digit.values.reshape(28, 28)"
      ]
    },
    {
      "cell_type": "code",
      "execution_count": 9,
      "metadata": {
        "colab": {
          "base_uri": "https://localhost:8080/",
          "height": 248
        },
        "id": "Vwv1KTCfBt_J",
        "outputId": "8bb5503e-a3ce-406f-a7b7-d65c5a4f3c87"
      },
      "outputs": [
        {
          "data": {
            "image/png": "[encoded data removed]",
            "text/plain": [
              "<Figure size 432x288 with 1 Axes>"
            ]
          },
          "metadata": {
            "needs_background": "light"
          },
          "output_type": "display_data"
        }
      ],
      "source": [
        "plt.imshow(some_digit_image, cmap=\"binary\")\n",
        "plt.axis(\"off\")\n",
        "plt.show()"
      ]
    },
    {
      "cell_type": "markdown",
      "metadata": {},
      "source": [
        "### Converting the 'y' to `int` type from `str`"
      ]
    },
    {
      "cell_type": "code",
      "execution_count": 10,
      "metadata": {
        "id": "bNhiQlVEB3c4"
      },
      "outputs": [],
      "source": [
        "y = y.astype(np.uint8)"
      ]
    },
    {
      "cell_type": "markdown",
      "metadata": {},
      "source": [
        "### Spliting data into 'train' and 'test' sets"
      ]
    },
    {
      "cell_type": "code",
      "execution_count": 11,
      "metadata": {
        "id": "oPaLEa90CAQi"
      },
      "outputs": [],
      "source": [
        "X_train, X_test, y_train, y_test = X[:60000], X[60000:], y[:60000], y[60000:]"
      ]
    },
    {
      "cell_type": "markdown",
      "metadata": {},
      "source": [
        "### Training a binary classifier\n",
        "#### For simplicity purpose we can try to identify only one digit(5) and this '5-detector' will be a binary classifier"
      ]
    },
    {
      "cell_type": "code",
      "execution_count": 12,
      "metadata": {
        "id": "cadjbgcOCANj"
      },
      "outputs": [
        {
          "data": {
            "text/plain": [
              "0     True\n",
              "1    False\n",
              "2    False\n",
              "3    False\n",
              "4    False\n",
              "Name: class, dtype: bool"
            ]
          },
          "execution_count": 12,
          "metadata": {},
          "output_type": "execute_result"
        }
      ],
      "source": [
        "y_train_5 = (y_train == 5) # True for all 5s, False for all other digits\n",
        "y_test_5 = (y_test == 5)\n",
        "y_train_5.head()"
      ]
    },
    {
      "cell_type": "markdown",
      "metadata": {},
      "source": [
        "#### Using Stochastic Gradient Descent(SGD) classifier as it capable of handling a very large datasets efficiently because SGD deals with training instances independently, one at a time"
      ]
    },
    {
      "cell_type": "code",
      "execution_count": 13,
      "metadata": {
        "id": "upl0aPxiCADs"
      },
      "outputs": [],
      "source": [
        "from sklearn.linear_model import SGDClassifier\n"
      ]
    },
    {
      "cell_type": "code",
      "execution_count": 14,
      "metadata": {},
      "outputs": [
        {
          "data": {
            "text/plain": [
              "SGDClassifier(random_state=42)"
            ]
          },
          "execution_count": 14,
          "metadata": {},
          "output_type": "execute_result"
        }
      ],
      "source": [
        "sgd_clf = SGDClassifier(random_state=42)\n",
        "sgd_clf.fit(X_train, y_train_5)"
      ]
    },
    {
      "cell_type": "markdown",
      "metadata": {},
      "source": [
        "#### Checking the classifier's prediction on 'some_digit'"
      ]
    },
    {
      "cell_type": "code",
      "execution_count": 15,
      "metadata": {},
      "outputs": [
        {
          "name": "stderr",
          "output_type": "stream",
          "text": [
            "C:\\Python310\\lib\\site-packages\\sklearn\\base.py:450: UserWarning: X does not have valid feature names, but SGDClassifier was fitted with feature names\n",
            "  warnings.warn(\n"
          ]
        },
        {
          "data": {
            "text/plain": [
              "array([False])"
            ]
          },
          "execution_count": 15,
          "metadata": {},
          "output_type": "execute_result"
        }
      ],
      "source": [
        "sgd_clf.predict([some_digit])"
      ]
    },
    {
      "cell_type": "markdown",
      "metadata": {},
      "source": [
        "### Measuring Accuracy using Cross Validation method `cross_val_score()`\n",
        "In this method K-fold cross-validation will split the training set in 3 folds, then will make predictions and evaluate them on each fold using a model trained on remaining folds."
      ]
    },
    {
      "cell_type": "code",
      "execution_count": 16,
      "metadata": {
        "id": "jtAKkQpiCopZ"
      },
      "outputs": [],
      "source": [
        "from sklearn.model_selection import cross_val_score"
      ]
    },
    {
      "cell_type": "code",
      "execution_count": 17,
      "metadata": {
        "colab": {
          "base_uri": "https://localhost:8080/"
        },
        "id": "n4SftFmrHMm8",
        "outputId": "3642f10a-a72f-4687-dfd2-d773d1aa883a"
      },
      "outputs": [
        {
          "data": {
            "text/plain": [
              "array([0.95035, 0.96035, 0.9604 ])"
            ]
          },
          "execution_count": 17,
          "metadata": {},
          "output_type": "execute_result"
        }
      ],
      "source": [
        "cross_val_score(sgd_clf, X_train, y_train_5, cv=3, scoring=\"accuracy\")"
      ]
    },
    {
      "cell_type": "markdown",
      "metadata": {},
      "source": [
        "### Trying to predict using a dumb classifier "
      ]
    },
    {
      "cell_type": "code",
      "execution_count": 18,
      "metadata": {
        "id": "GMGBgY-0HQP0"
      },
      "outputs": [],
      "source": [
        "from sklearn.base import BaseEstimator"
      ]
    },
    {
      "cell_type": "code",
      "execution_count": 19,
      "metadata": {
        "id": "nuiq9kp3HnvD"
      },
      "outputs": [],
      "source": [
        "class Never5Classifier(BaseEstimator):\n",
        "  def fit(self, X, y=None):\n",
        "    pass\n",
        "  def predict(self, X):\n",
        "    return np.zeros((len(X), 1), dtype=bool)"
      ]
    },
    {
      "cell_type": "code",
      "execution_count": 20,
      "metadata": {
        "colab": {
          "base_uri": "https://localhost:8080/"
        },
        "id": "Wn4mmvWiHqRw",
        "outputId": "dcfc326e-9be0-467f-cc30-5ae7e74fc361"
      },
      "outputs": [
        {
          "data": {
            "text/plain": [
              "array([0.91125, 0.90855, 0.90915])"
            ]
          },
          "execution_count": 20,
          "metadata": {},
          "output_type": "execute_result"
        }
      ],
      "source": [
        "never_5_clf = Never5Classifier()\n",
        "cross_val_score(never_5_clf, X_train, y_train_5, cv=3, scoring=\"accuracy\")"
      ]
    },
    {
      "cell_type": "markdown",
      "metadata": {},
      "source": [
        "#### `cross_val_predict` performs K-fold cross-validation just like `cross_val_score` but returns predictions made on each test fold instead of evaluation scores"
      ]
    },
    {
      "cell_type": "code",
      "execution_count": 21,
      "metadata": {
        "id": "W1mirbxYH15m"
      },
      "outputs": [],
      "source": [
        "from sklearn.model_selection import cross_val_predict"
      ]
    },
    {
      "cell_type": "code",
      "execution_count": 22,
      "metadata": {
        "id": "QaIRicPoINoc"
      },
      "outputs": [],
      "source": [
        "y_train_pred = cross_val_predict(sgd_clf, X_train, y_train_5, cv=3)"
      ]
    },
    {
      "cell_type": "markdown",
      "metadata": {
        "id": "74eiowaiJqr1"
      },
      "source": [
        "### Confusion matrix\n",
        "It provides a much better way to evaluate the performance of a classifier.\n",
        "\n",
        "**Confusion Matrix Layout**  \n",
        "|   True -ve    |   False +ve   |  \n",
        "|   False -ve   |   True +ve    |"
      ]
    },
    {
      "cell_type": "code",
      "execution_count": 23,
      "metadata": {
        "id": "vTZJeqmSIaUc"
      },
      "outputs": [],
      "source": [
        "from sklearn.metrics import confusion_matrix"
      ]
    },
    {
      "cell_type": "code",
      "execution_count": 24,
      "metadata": {
        "colab": {
          "base_uri": "https://localhost:8080/"
        },
        "id": "mLeoxqRmInv6",
        "outputId": "0180b5de-77fd-4366-9f93-b602ab2c1ddd"
      },
      "outputs": [
        {
          "data": {
            "text/plain": [
              "array([[53892,   687],\n",
              "       [ 1891,  3530]], dtype=int64)"
            ]
          },
          "execution_count": 24,
          "metadata": {},
          "output_type": "execute_result"
        }
      ],
      "source": [
        "confusion_matrix(y_train_5, y_train_pred)"
      ]
    },
    {
      "cell_type": "markdown",
      "metadata": {
        "id": "7gg521E5Kmi7"
      },
      "source": [
        "### How a Perfect Confusion Matrix looks like"
      ]
    },
    {
      "cell_type": "code",
      "execution_count": 25,
      "metadata": {
        "id": "q0g3ZXMFJTlD"
      },
      "outputs": [],
      "source": [
        "y_train_perfect_pred = y_train_5"
      ]
    },
    {
      "cell_type": "code",
      "execution_count": 26,
      "metadata": {
        "colab": {
          "base_uri": "https://localhost:8080/"
        },
        "id": "RyIvxKiMKgXr",
        "outputId": "ea5d2436-e1ba-4903-8881-c90729aa8ea1"
      },
      "outputs": [
        {
          "data": {
            "text/plain": [
              "array([[54579,     0],\n",
              "       [    0,  5421]], dtype=int64)"
            ]
          },
          "execution_count": 26,
          "metadata": {},
          "output_type": "execute_result"
        }
      ],
      "source": [
        "confusion_matrix(y_train_5, y_train_perfect_pred)"
      ]
    },
    {
      "cell_type": "markdown",
      "metadata": {
        "id": "QGzoV6XXLY3U"
      },
      "source": [
        "### Difference between Precision & Recall\n",
        "\n",
        "![image.png](data:image/png;base64,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)\n",
        "\n",
        "\n",
        "![image.png](data:image/png;base64,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)  \n",
        "here, TP-No. of True positives, FP-No. of False positives and TP-No. of False negatives\n"
      ]
    },
    {
      "cell_type": "markdown",
      "metadata": {},
      "source": [
        "\n",
        "![image.png](data:image/png;base64,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)\n",
        "\n",
        "#### increasing precision reduces recall, and vice versa and this is called the **Precision/Recall trade-off**"
      ]
    },
    {
      "cell_type": "code",
      "execution_count": 27,
      "metadata": {
        "id": "o5MewbLjKiaK"
      },
      "outputs": [],
      "source": [
        "from sklearn.metrics import precision_score, recall_score"
      ]
    },
    {
      "cell_type": "code",
      "execution_count": 28,
      "metadata": {
        "colab": {
          "base_uri": "https://localhost:8080/"
        },
        "id": "oisriWhdLur8",
        "outputId": "d63f9165-a0c9-450f-bea8-c2c22269c0c8"
      },
      "outputs": [
        {
          "data": {
            "text/plain": [
              "0.8370879772350012"
            ]
          },
          "execution_count": 28,
          "metadata": {},
          "output_type": "execute_result"
        }
      ],
      "source": [
        "precision_score(y_train_5, y_train_pred)"
      ]
    },
    {
      "cell_type": "code",
      "execution_count": 29,
      "metadata": {
        "colab": {
          "base_uri": "https://localhost:8080/"
        },
        "id": "k9dElxp0Lywo",
        "outputId": "fcd4f01b-dd6a-4fbc-9983-0ec6dbb26ccf"
      },
      "outputs": [
        {
          "data": {
            "text/plain": [
              "0.6511713705958311"
            ]
          },
          "execution_count": 29,
          "metadata": {},
          "output_type": "execute_result"
        }
      ],
      "source": [
        "recall_score(y_train_5, y_train_pred)"
      ]
    },
    {
      "cell_type": "markdown",
      "metadata": {},
      "source": [
        "### **F1 score** is the harmonic mean of precision and recall  \n",
        "![image.png](data:image/png;base64,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)"
      ]
    },
    {
      "cell_type": "code",
      "execution_count": 30,
      "metadata": {
        "id": "VpvS_2pEL1cP"
      },
      "outputs": [],
      "source": [
        "from sklearn.metrics import f1_score"
      ]
    },
    {
      "cell_type": "code",
      "execution_count": 31,
      "metadata": {
        "colab": {
          "base_uri": "https://localhost:8080/"
        },
        "id": "lTQ3uMlGM1bo",
        "outputId": "47c642af-629f-443b-a64f-bcf15dd719a9"
      },
      "outputs": [
        {
          "data": {
            "text/plain": [
              "0.7325171197343846"
            ]
          },
          "execution_count": 31,
          "metadata": {},
          "output_type": "execute_result"
        }
      ],
      "source": [
        "f1_score(y_train_5, y_train_pred)"
      ]
    },
    {
      "cell_type": "markdown",
      "metadata": {},
      "source": [
        "#### `decision function` depends on the decision threshold of the classifier(here SGDClassifier)\n",
        "it returns a score for each instance"
      ]
    },
    {
      "cell_type": "code",
      "execution_count": 32,
      "metadata": {
        "id": "jxNHBJb8M3iF"
      },
      "outputs": [
        {
          "name": "stderr",
          "output_type": "stream",
          "text": [
            "C:\\Python310\\lib\\site-packages\\sklearn\\base.py:450: UserWarning: X does not have valid feature names, but SGDClassifier was fitted with feature names\n",
            "  warnings.warn(\n"
          ]
        },
        {
          "data": {
            "text/plain": [
              "array([-3908.27576291])"
            ]
          },
          "execution_count": 32,
          "metadata": {},
          "output_type": "execute_result"
        }
      ],
      "source": [
        "y_scores = sgd_clf.decision_function([some_digit])\n",
        "y_scores"
      ]
    },
    {
      "cell_type": "markdown",
      "metadata": {},
      "source": [
        "#### SGDClassifier uses a threshold of 0, which is proved by the previous identical results "
      ]
    },
    {
      "cell_type": "code",
      "execution_count": 33,
      "metadata": {},
      "outputs": [
        {
          "data": {
            "text/plain": [
              "array([False])"
            ]
          },
          "execution_count": 33,
          "metadata": {},
          "output_type": "execute_result"
        }
      ],
      "source": [
        "threshold = 0\n",
        "y_some_digit_pred = (y_scores > threshold)\n",
        "y_some_digit_pred"
      ]
    },
    {
      "cell_type": "markdown",
      "metadata": {},
      "source": [
        "### Now how to decide which threshold value to use"
      ]
    },
    {
      "cell_type": "markdown",
      "metadata": {},
      "source": [
        "1. using `cross_val_predict()` function to get the scores of all instances in the training set and also specifying that to return decision scores instead of predictions"
      ]
    },
    {
      "cell_type": "code",
      "execution_count": 34,
      "metadata": {},
      "outputs": [],
      "source": [
        "y_scores = cross_val_predict(sgd_clf, X_train, y_train_5, cv=3, method=\"decision_function\")"
      ]
    },
    {
      "cell_type": "code",
      "execution_count": 35,
      "metadata": {},
      "outputs": [
        {
          "data": {
            "text/plain": [
              "array([  1200.93051237, -26883.79202424, -33072.03475406, ...,\n",
              "        13272.12718981,  -7258.47203373, -16877.50840447])"
            ]
          },
          "execution_count": 35,
          "metadata": {},
          "output_type": "execute_result"
        }
      ],
      "source": [
        "y_scores"
      ]
    },
    {
      "cell_type": "markdown",
      "metadata": {},
      "source": [
        "2. using `precision_recall_curve()` function to compute precision and recall for all possible thresholds"
      ]
    },
    {
      "cell_type": "code",
      "execution_count": 36,
      "metadata": {},
      "outputs": [],
      "source": [
        "from sklearn.metrics import precision_recall_curve\n",
        "precisions, recalls, thresholds = precision_recall_curve(y_train_5, y_scores)"
      ]
    },
    {
      "cell_type": "markdown",
      "metadata": {},
      "source": [
        "3. using `matplotlib` to plot precision and recall as functions of the threshold value"
      ]
    },
    {
      "cell_type": "code",
      "execution_count": 37,
      "metadata": {},
      "outputs": [
        {
          "data": {
            "image/png": "[encoded data removed]",
            "text/plain": [
              "<Figure size 432x288 with 1 Axes>"
            ]
          },
          "metadata": {
            "needs_background": "light"
          },
          "output_type": "display_data"
        }
      ],
      "source": [
        "def plot_precision_recall_vs_threshold(precisions, recalls, thresholds):\n",
        "    plt.plot(thresholds, precisions[:-1], \"b--\", label=\"Precision\")\n",
        "    plt.plot(thresholds, recalls[:-1], \"g-\", label=\"Recall\")\n",
        "\n",
        "plot_precision_recall_vs_threshold(precisions, recalls, thresholds)"
      ]
    },
    {
      "cell_type": "markdown",
      "metadata": {},
      "source": [
        "4. alternatively, plotting precision directly against recall to select a good precision/recall trade-off"
      ]
    },
    {
      "cell_type": "code",
      "execution_count": 38,
      "metadata": {},
      "outputs": [
        {
          "data": {
            "text/plain": [
              "[<matplotlib.lines.Line2D at 0x1a8a44a9420>]"
            ]
          },
          "execution_count": 38,
          "metadata": {},
          "output_type": "execute_result"
        },
        {
          "data": {
            "image/png": "[encoded data removed]",
            "text/plain": [
              "<Figure size 432x288 with 1 Axes>"
            ]
          },
          "metadata": {
            "needs_background": "light"
          },
          "output_type": "display_data"
        }
      ],
      "source": [
        "plt.plot(recalls, precisions)"
      ]
    },
    {
      "cell_type": "markdown",
      "metadata": {},
      "source": [
        "#### `np.argmax()` function searchs for the lowest threshold that gives at least 90% precision  \n",
        "*  will give the first index of the maximum value, which in this case means the first True value"
      ]
    },
    {
      "cell_type": "code",
      "execution_count": 39,
      "metadata": {},
      "outputs": [
        {
          "data": {
            "text/plain": [
              "3370.019499143957"
            ]
          },
          "execution_count": 39,
          "metadata": {},
          "output_type": "execute_result"
        }
      ],
      "source": [
        "threshold_90_precision = thresholds[np.argmax(precisions >= 0.90)] \n",
        "threshold_90_precision"
      ]
    },
    {
      "cell_type": "code",
      "execution_count": 40,
      "metadata": {},
      "outputs": [],
      "source": [
        "y_train_pred_90 = (y_scores >= threshold_90_precision)"
      ]
    },
    {
      "cell_type": "code",
      "execution_count": 41,
      "metadata": {},
      "outputs": [
        {
          "data": {
            "text/plain": [
              "0.9000345901072293"
            ]
          },
          "execution_count": 41,
          "metadata": {},
          "output_type": "execute_result"
        }
      ],
      "source": [
        "precision_score(y_train_5, y_train_pred_90)"
      ]
    },
    {
      "cell_type": "code",
      "execution_count": 42,
      "metadata": {},
      "outputs": [
        {
          "data": {
            "text/plain": [
              "0.4799852425751706"
            ]
          },
          "execution_count": 42,
          "metadata": {},
          "output_type": "execute_result"
        }
      ],
      "source": [
        "recall_score(y_train_5, y_train_pred_90)"
      ]
    },
    {
      "cell_type": "markdown",
      "metadata": {},
      "source": [
        "### Receiver Operating Characteristics(ROC) curve\n",
        "* used to plot recall/true positive rate(tpr) against false positive rate(fpr)\n",
        "* fpr = 1 - true negative rate/specificity(tnr)"
      ]
    },
    {
      "cell_type": "code",
      "execution_count": 43,
      "metadata": {},
      "outputs": [],
      "source": [
        "from sklearn.metrics import roc_curve\n",
        "fpr, tpr, thresholds = roc_curve(y_train_5, y_scores)"
      ]
    },
    {
      "cell_type": "code",
      "execution_count": 44,
      "metadata": {},
      "outputs": [],
      "source": [
        "def plot_roc_curve(fpr, tpr, label=None):\n",
        "    plt.plot(fpr, tpr, linewidth=2, label=label)\n",
        "    plt.plot([0, 1], [0, 1], 'k--')\n",
        "    plt.plot()"
      ]
    },
    {
      "cell_type": "markdown",
      "metadata": {},
      "source": [
        "* a good classifier stays as far away from that dotted line as possible (toward the top-left corner)"
      ]
    },
    {
      "cell_type": "code",
      "execution_count": 45,
      "metadata": {},
      "outputs": [
        {
          "data": {
            "image/png": "[encoded data removed]",
            "text/plain": [
              "<Figure size 432x288 with 1 Axes>"
            ]
          },
          "metadata": {
            "needs_background": "light"
          },
          "output_type": "display_data"
        }
      ],
      "source": [
        "plot_roc_curve(fpr, tpr)"
      ]
    },
    {
      "cell_type": "markdown",
      "metadata": {},
      "source": [
        "### Area under ROC\n",
        "*  perfect classifier will have a ROC AUC equal to 1, whereas a purely random classifier will have a ROC AUC equal to 0.5"
      ]
    },
    {
      "cell_type": "code",
      "execution_count": 46,
      "metadata": {},
      "outputs": [
        {
          "data": {
            "text/plain": [
              "0.9604938554008616"
            ]
          },
          "execution_count": 46,
          "metadata": {},
          "output_type": "execute_result"
        }
      ],
      "source": [
        "from sklearn.metrics import roc_auc_score\n",
        "roc_auc_score(y_train_5, y_scores)"
      ]
    },
    {
      "cell_type": "markdown",
      "metadata": {},
      "source": [
        "### Using **RandomForestClassifier** to compare its ROC curve and  ROC AUC score against **SGDClassifier**"
      ]
    },
    {
      "cell_type": "code",
      "execution_count": 47,
      "metadata": {},
      "outputs": [],
      "source": [
        "from sklearn.ensemble import RandomForestClassifier\n",
        "forest_clf = RandomForestClassifier(random_state=42)"
      ]
    },
    {
      "cell_type": "markdown",
      "metadata": {},
      "source": [
        "### RandomForestClassifier has `predict_proba()` function instead of `decision_function()`"
      ]
    },
    {
      "cell_type": "code",
      "execution_count": 48,
      "metadata": {},
      "outputs": [],
      "source": [
        "y_probas_forest = cross_val_predict(forest_clf, X_train, y_train_5, cv=3, method=\"predict_proba\")\n",
        "y_scores_forest = y_probas_forest[:, 1]"
      ]
    },
    {
      "cell_type": "markdown",
      "metadata": {},
      "source": [
        "#### ROC curve is fed with probabilities in place of labels & scores"
      ]
    },
    {
      "cell_type": "code",
      "execution_count": 49,
      "metadata": {},
      "outputs": [],
      "source": [
        "fpr_forest, tpr_forest, thresholds_forest = roc_curve(y_train_5,y_scores_forest)"
      ]
    },
    {
      "cell_type": "markdown",
      "metadata": {},
      "source": [
        "#### RandomForestClassifier’s ROC curve looks much better than the SGDClassifier’s"
      ]
    },
    {
      "cell_type": "code",
      "execution_count": 50,
      "metadata": {},
      "outputs": [
        {
          "data": {
            "text/plain": [
              "<matplotlib.legend.Legend at 0x1a8a5cc80a0>"
            ]
          },
          "execution_count": 50,
          "metadata": {},
          "output_type": "execute_result"
        },
        {
          "data": {
            "image/png": "[encoded data removed]",
            "text/plain": [
              "<Figure size 432x288 with 1 Axes>"
            ]
          },
          "metadata": {
            "needs_background": "light"
          },
          "output_type": "display_data"
        }
      ],
      "source": [
        "plt.plot(fpr, tpr, \"b:\", label=\"SGD\")\n",
        "plot_roc_curve(fpr_forest, tpr_forest, \"Random Forest\")\n",
        "plt.legend(loc=\"lower right\")"
      ]
    },
    {
      "cell_type": "markdown",
      "metadata": {},
      "source": [
        "#### ROC AUC score, Precision score & Recall score are all impressive for RandomForestClassifier"
      ]
    },
    {
      "cell_type": "code",
      "execution_count": 51,
      "metadata": {},
      "outputs": [
        {
          "data": {
            "text/plain": [
              "0.9983436731328145"
            ]
          },
          "execution_count": 51,
          "metadata": {},
          "output_type": "execute_result"
        }
      ],
      "source": [
        "roc_auc_score(y_train_5, y_scores_forest)"
      ]
    },
    {
      "cell_type": "code",
      "execution_count": 52,
      "metadata": {},
      "outputs": [],
      "source": [
        "y_train_forest = cross_val_predict(forest_clf, X_train, y_train_5, cv=3)"
      ]
    },
    {
      "cell_type": "code",
      "execution_count": 53,
      "metadata": {},
      "outputs": [
        {
          "data": {
            "text/plain": [
              "0.9905083315756169"
            ]
          },
          "execution_count": 53,
          "metadata": {},
          "output_type": "execute_result"
        }
      ],
      "source": [
        "precision_score(y_train_5, y_train_forest)"
      ]
    },
    {
      "cell_type": "code",
      "execution_count": 54,
      "metadata": {},
      "outputs": [
        {
          "data": {
            "text/plain": [
              "0.8662608374838591"
            ]
          },
          "execution_count": 54,
          "metadata": {},
          "output_type": "execute_result"
        }
      ],
      "source": [
        "recall_score(y_train_5, y_train_forest)"
      ]
    },
    {
      "cell_type": "markdown",
      "metadata": {},
      "source": [
        "## Multinomial Classifiers"
      ]
    },
    {
      "cell_type": "markdown",
      "metadata": {},
      "source": [
        "### Support Vector Machine classifier"
      ]
    },
    {
      "cell_type": "code",
      "execution_count": 55,
      "metadata": {},
      "outputs": [],
      "source": [
        "from sklearn.svm import SVC\n",
        "svm_clf = SVC()"
      ]
    },
    {
      "cell_type": "code",
      "execution_count": 56,
      "metadata": {},
      "outputs": [
        {
          "name": "stderr",
          "output_type": "stream",
          "text": [
            "C:\\Python310\\lib\\site-packages\\sklearn\\base.py:450: UserWarning: X does not have valid feature names, but SVC was fitted with feature names\n",
            "  warnings.warn(\n"
          ]
        },
        {
          "data": {
            "text/plain": [
              "array([2], dtype=uint8)"
            ]
          },
          "execution_count": 56,
          "metadata": {},
          "output_type": "execute_result"
        }
      ],
      "source": [
        "svm_clf.fit(X_train, y_train)\n",
        "svm_clf.predict([some_digit])"
      ]
    },
    {
      "cell_type": "markdown",
      "metadata": {},
      "source": [
        "#### The highest score is high for the some_digit value which is 2\n",
        "It returns 10 scores per instance as in one-versus-one strategy instead of just 1 as in one-versus-rest strategy, which means one score per class."
      ]
    },
    {
      "cell_type": "code",
      "execution_count": 57,
      "metadata": {},
      "outputs": [
        {
          "name": "stderr",
          "output_type": "stream",
          "text": [
            "C:\\Python310\\lib\\site-packages\\sklearn\\base.py:450: UserWarning: X does not have valid feature names, but SVC was fitted with feature names\n",
            "  warnings.warn(\n"
          ]
        },
        {
          "data": {
            "text/plain": [
              "array([[ 2.7442516 , -0.30125634,  9.31399134,  7.26965016,  3.75753908,\n",
              "         3.74771902,  0.71155138,  2.76650678,  8.2765048 ,  6.21840456]])"
            ]
          },
          "execution_count": 57,
          "metadata": {},
          "output_type": "execute_result"
        }
      ],
      "source": [
        "some_digit_scores = svm_clf.decision_function([some_digit])\n",
        "some_digit_scores"
      ]
    },
    {
      "cell_type": "code",
      "execution_count": 58,
      "metadata": {},
      "outputs": [
        {
          "data": {
            "text/plain": [
              "2"
            ]
          },
          "execution_count": 58,
          "metadata": {},
          "output_type": "execute_result"
        }
      ],
      "source": [
        "np.argmax(some_digit_scores)"
      ]
    },
    {
      "cell_type": "code",
      "execution_count": 59,
      "metadata": {},
      "outputs": [
        {
          "data": {
            "text/plain": [
              "array([0, 1, 2, 3, 4, 5, 6, 7, 8, 9], dtype=uint8)"
            ]
          },
          "execution_count": 59,
          "metadata": {},
          "output_type": "execute_result"
        }
      ],
      "source": [
        "svm_clf.classes_"
      ]
    },
    {
      "cell_type": "markdown",
      "metadata": {},
      "source": [
        "* A trained classifier stores the list of target classes in its `classes_` attribute, ordered by value.\n",
        "* In this case, the index of each class in the `classes_` array conveniently matches the class itself"
      ]
    },
    {
      "cell_type": "code",
      "execution_count": 60,
      "metadata": {},
      "outputs": [
        {
          "data": {
            "text/plain": [
              "3"
            ]
          },
          "execution_count": 60,
          "metadata": {},
          "output_type": "execute_result"
        }
      ],
      "source": [
        "svm_clf.classes_[3]"
      ]
    },
    {
      "cell_type": "markdown",
      "metadata": {},
      "source": [
        "### Forcing sklearn to use one-versus-rest strategy for SVM classifier"
      ]
    },
    {
      "cell_type": "code",
      "execution_count": 61,
      "metadata": {},
      "outputs": [],
      "source": [
        "from sklearn.multiclass import OneVsRestClassifier\n",
        "ovr_clf = OneVsRestClassifier(SVC())"
      ]
    },
    {
      "cell_type": "code",
      "execution_count": 62,
      "metadata": {},
      "outputs": [],
      "source": [
        "ovr_clf.fit(X_train, y_train)\n",
        "ovr_clf.predict([some_digit])"
      ]
    },
    {
      "cell_type": "code",
      "execution_count": null,
      "metadata": {},
      "outputs": [],
      "source": [
        "len(ovr_clf.estimators_)"
      ]
    },
    {
      "cell_type": "markdown",
      "metadata": {},
      "source": [
        "#### Similarly training SGD Classifier"
      ]
    },
    {
      "cell_type": "code",
      "execution_count": null,
      "metadata": {},
      "outputs": [],
      "source": [
        "sgd_clf.fit(X_train, y_train)\n",
        "sgd_clf.predict([some_digit])"
      ]
    },
    {
      "cell_type": "markdown",
      "metadata": {},
      "source": [
        "#### Evaluating the classifier by cross validation"
      ]
    },
    {
      "cell_type": "code",
      "execution_count": null,
      "metadata": {},
      "outputs": [],
      "source": [
        "cross_val_score(sgd_clf, X_train, y_train, cv=3, scoring=\"accuracy\")"
      ]
    },
    {
      "cell_type": "markdown",
      "metadata": {},
      "source": [
        "### Scaling the inputs using Standard Scaler"
      ]
    },
    {
      "cell_type": "code",
      "execution_count": null,
      "metadata": {},
      "outputs": [],
      "source": [
        "from sklearn.preprocessing import StandardScaler\n",
        "scaler = StandardScaler()"
      ]
    },
    {
      "cell_type": "code",
      "execution_count": null,
      "metadata": {},
      "outputs": [],
      "source": [
        "X_train_scaled = scaler.fit_transform(X_train.astype(np.float64))\n",
        "cross_val_score(sgd_clf, X_train_scaled, y_train, cv=3, scoring=\"accuracy\")"
      ]
    },
    {
      "cell_type": "markdown",
      "metadata": {},
      "source": [
        "### Error analysis using confusion matrix"
      ]
    },
    {
      "cell_type": "code",
      "execution_count": null,
      "metadata": {},
      "outputs": [],
      "source": [
        "y_train_pred = cross_val_predict(sgd_clf, X_train_scaled, y_train, cv=3)\n",
        "conf_mx = confusion_matrix(y_train, y_train_pred)\n",
        "conf_mx"
      ]
    },
    {
      "cell_type": "code",
      "execution_count": null,
      "metadata": {},
      "outputs": [],
      "source": [
        "plt.matshow(conf_mx, cmap=plt.cm.gray)"
      ]
    },
    {
      "cell_type": "code",
      "execution_count": null,
      "metadata": {},
      "outputs": [],
      "source": [
        "row_sums = conf_mx.sum(axis=1, keepdims=True)\n",
        "norm_conf_mx = conf_mx / row_sums"
      ]
    },
    {
      "cell_type": "code",
      "execution_count": null,
      "metadata": {},
      "outputs": [],
      "source": [
        "np.fill_diagonal(norm_conf_mx, 0)\n",
        "plt.matshow(norm_conf_mx, cmap=plt.cm.gray)"
      ]
    }
  ],
  "metadata": {
    "colab": {
      "collapsed_sections": [],
      "name": "CH-2_MNIST.ipynb",
      "provenance": []
    },
    "kernelspec": {
      "display_name": "Python 3",
      "name": "python3"
    },
    "language_info": {
      "codemirror_mode": {
        "name": "ipython",
        "version": 3
      },
      "file_extension": ".py",
      "mimetype": "text/x-python",
      "name": "python",
      "nbconvert_exporter": "python",
      "pygments_lexer": "ipython3",
      "version": "3.10.0"
    }
  },
  "nbformat": 4,
  "nbformat_minor": 0
}
